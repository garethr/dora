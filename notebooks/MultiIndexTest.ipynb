{
 "metadata": {
  "name": "MultiIndexTest"
 },
 "nbformat": 3,
 "nbformat_minor": 0,
 "worksheets": [
  {
   "cells": [
    {
     "cell_type": "code",
     "collapsed": false,
     "input": [
      "import pandas as pd\n",
      "import numpy as np\n",
      "import datetime"
     ],
     "language": "python",
     "metadata": {},
     "outputs": [],
     "prompt_number": 18
    },
    {
     "cell_type": "code",
     "collapsed": false,
     "input": [
      "index = pd.MultiIndex.from_tuples(zip(*[[\"a\", \"a\", \"a\", \"b\", \"b\", \"b\", \"c\", \"c\", \"c\"], [\"1\", \"2\", \"3\", \"1\", \"2\", \"3\", \"1\", \"2\", \"3\"]]))\n",
      "frame = pd.DataFrame(np.random.randn(9, 1), index=index, columns=[\"A\"])\n",
      "frame"
     ],
     "language": "python",
     "metadata": {},
     "outputs": [
      {
       "html": [
        "<div style=\"max-height:1000px;max-width:1500px;overflow:auto;\">\n",
        "<table border=\"1\" class=\"dataframe\">\n",
        "  <thead>\n",
        "    <tr style=\"text-align: right;\">\n",
        "      <th></th>\n",
        "      <th></th>\n",
        "      <th>A</th>\n",
        "    </tr>\n",
        "  </thead>\n",
        "  <tbody>\n",
        "    <tr>\n",
        "      <td rowspan=\"3\" valign=\"top\"><strong>a</strong></td>\n",
        "      <td><strong>1</strong></td>\n",
        "      <td>-1.636019</td>\n",
        "    </tr>\n",
        "    <tr>\n",
        "      <td><strong>2</strong></td>\n",
        "      <td>-0.173951</td>\n",
        "    </tr>\n",
        "    <tr>\n",
        "      <td><strong>3</strong></td>\n",
        "      <td> 0.057470</td>\n",
        "    </tr>\n",
        "    <tr>\n",
        "      <td rowspan=\"3\" valign=\"top\"><strong>b</strong></td>\n",
        "      <td><strong>1</strong></td>\n",
        "      <td>-0.356856</td>\n",
        "    </tr>\n",
        "    <tr>\n",
        "      <td><strong>2</strong></td>\n",
        "      <td> 0.038243</td>\n",
        "    </tr>\n",
        "    <tr>\n",
        "      <td><strong>3</strong></td>\n",
        "      <td>-2.215198</td>\n",
        "    </tr>\n",
        "    <tr>\n",
        "      <td rowspan=\"3\" valign=\"top\"><strong>c</strong></td>\n",
        "      <td><strong>1</strong></td>\n",
        "      <td>-0.992211</td>\n",
        "    </tr>\n",
        "    <tr>\n",
        "      <td><strong>2</strong></td>\n",
        "      <td>-1.423848</td>\n",
        "    </tr>\n",
        "    <tr>\n",
        "      <td><strong>3</strong></td>\n",
        "      <td>-0.082989</td>\n",
        "    </tr>\n",
        "  </tbody>\n",
        "</table>\n",
        "</div>"
       ],
       "output_type": "pyout",
       "prompt_number": 28,
       "text": [
        "            A\n",
        "a 1 -1.636019\n",
        "  2 -0.173951\n",
        "  3  0.057470\n",
        "b 1 -0.356856\n",
        "  2  0.038243\n",
        "  3 -2.215198\n",
        "c 1 -0.992211\n",
        "  2 -1.423848\n",
        "  3 -0.082989"
       ]
      }
     ],
     "prompt_number": 28
    },
    {
     "cell_type": "code",
     "collapsed": false,
     "input": [
      "import pandas.util.testing as tm; tm.N = 3\n",
      "def unpivot(frame):\n",
      "    N, K = frame.shape\n",
      "    data = {'value' : frame.values.ravel('F'),\n",
      "            'variable' : np.asarray(frame.columns).repeat(N),\n",
      "            'date' : np.tile(np.asarray(frame.index), K)}\n",
      "    return pd.DataFrame(data, columns=['date', 'variable', 'value'])\n",
      "frame = unpivot(tm.makeTimeDataFrame())"
     ],
     "language": "python",
     "metadata": {},
     "outputs": [],
     "prompt_number": 11
    },
    {
     "cell_type": "code",
     "collapsed": false,
     "input": [
      "frame = pd.DataFrame({\n",
      "    \"date\":[datetime.datetime(2012, 1, 1), datetime.datetime(2012, 1, 1), datetime.datetime(2012, 1, 2), datetime.datetime(2012, 1, 3), datetime.datetime(2012, 1, 3)],\n",
      "    \"path\":[\"/\", \"/abc\", \"/\", \"/\", \"/bcd\"],\n",
      "    \"values\":[123, 234, 345, 456, 567]}, columns=[\"date\", \"path\", \"value\"])"
     ],
     "language": "python",
     "metadata": {},
     "outputs": [],
     "prompt_number": 35
    },
    {
     "cell_type": "code",
     "collapsed": false,
     "input": [
      "frame\n",
      "#pd.pivot_table(frame, values=\"value\", rows=[\"date\"], cols=[\"path\"])"
     ],
     "language": "python",
     "metadata": {},
     "outputs": [
      {
       "html": [
        "<div style=\"max-height:1000px;max-width:1500px;overflow:auto;\">\n",
        "<table border=\"1\" class=\"dataframe\">\n",
        "  <thead>\n",
        "    <tr style=\"text-align: right;\">\n",
        "      <th></th>\n",
        "      <th>date</th>\n",
        "      <th>path</th>\n",
        "      <th>value</th>\n",
        "    </tr>\n",
        "  </thead>\n",
        "  <tbody>\n",
        "    <tr>\n",
        "      <td><strong>0</strong></td>\n",
        "      <td> 2012-01-01 00:00:00</td>\n",
        "      <td>    /</td>\n",
        "      <td> NaN</td>\n",
        "    </tr>\n",
        "    <tr>\n",
        "      <td><strong>1</strong></td>\n",
        "      <td> 2012-01-01 00:00:00</td>\n",
        "      <td> /abc</td>\n",
        "      <td> NaN</td>\n",
        "    </tr>\n",
        "    <tr>\n",
        "      <td><strong>2</strong></td>\n",
        "      <td> 2012-01-02 00:00:00</td>\n",
        "      <td>    /</td>\n",
        "      <td> NaN</td>\n",
        "    </tr>\n",
        "    <tr>\n",
        "      <td><strong>3</strong></td>\n",
        "      <td> 2012-01-03 00:00:00</td>\n",
        "      <td>    /</td>\n",
        "      <td> NaN</td>\n",
        "    </tr>\n",
        "    <tr>\n",
        "      <td><strong>4</strong></td>\n",
        "      <td> 2012-01-03 00:00:00</td>\n",
        "      <td> /bcd</td>\n",
        "      <td> NaN</td>\n",
        "    </tr>\n",
        "  </tbody>\n",
        "</table>\n",
        "</div>"
       ],
       "output_type": "pyout",
       "prompt_number": 36,
       "text": [
        "                  date  path value\n",
        "0  2012-01-01 00:00:00     /   NaN\n",
        "1  2012-01-01 00:00:00  /abc   NaN\n",
        "2  2012-01-02 00:00:00     /   NaN\n",
        "3  2012-01-03 00:00:00     /   NaN\n",
        "4  2012-01-03 00:00:00  /bcd   NaN"
       ]
      }
     ],
     "prompt_number": 36
    }
   ],
   "metadata": {}
  }
 ]
}