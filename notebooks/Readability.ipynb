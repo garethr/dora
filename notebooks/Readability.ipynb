{
 "metadata": {
  "name": "Readability"
 },
 "nbformat": 3,
 "nbformat_minor": 0,
 "worksheets": [
  {
   "cells": [
    {
     "cell_type": "code",
     "collapsed": false,
     "input": [
      "from dora import store\n",
      "from nltk_contrib.readability.readabilitytests import ReadabilityTool\n",
      "from nltk_contrib.readability.languageclassifier import NaiveBayes\n",
      "from HTMLParser import HTMLParser\n",
      "from IPython.core.display import HTML\n",
      "import re"
     ],
     "language": "python",
     "metadata": {},
     "outputs": [],
     "prompt_number": 32
    },
    {
     "cell_type": "code",
     "collapsed": false,
     "input": [
      "class MLStripper(HTMLParser):\n",
      "    def __init__(self):\n",
      "        self.reset()\n",
      "        self.fed = []\n",
      "    def handle_data(self, d):\n",
      "        self.fed.append(d)\n",
      "    def get_data(self):\n",
      "        return ''.join(self.fed)\n",
      "\n",
      "def modify_html(html):\n",
      "    # add a full stop at the end of each list item\n",
      "    html = html.replace(\"</li>\", \".</li>\")\n",
      "    # remove tables\n",
      "    html = re.sub(r\"<table>.*</table>\", \"\", html, flags= re.MULTILINE | re.DOTALL | re.IGNORECASE)\n",
      "    \n",
      "    return html\n",
      "    \n",
      "def strip_tags(html):\n",
      "    html = modify_html(html)\n",
      "    s = MLStripper()\n",
      "    s.feed(html)\n",
      "    return s.get_data()\n",
      "\n",
      "def get_score(guide):\n",
      "    text = \"\".join(part[\"body\"] for part in guide[\"details\"][\"parts\"])\n",
      "    text = strip_tags(text)\n",
      "    text = text.encode(\"utf8\")\n",
      "    return tool.SMOGIndex(text)"
     ],
     "language": "python",
     "metadata": {},
     "outputs": [],
     "prompt_number": 33
    },
    {
     "cell_type": "code",
     "collapsed": false,
     "input": [
      "tool = ReadabilityTool()"
     ],
     "language": "python",
     "metadata": {},
     "outputs": [],
     "prompt_number": 34
    },
    {
     "cell_type": "code",
     "collapsed": false,
     "input": [
      "guide = store.artefacts.find_one({\"format\":\"guide\"})"
     ],
     "language": "python",
     "metadata": {},
     "outputs": [],
     "prompt_number": 10
    },
    {
     "cell_type": "code",
     "collapsed": false,
     "input": [
      "html_data = \"\".join([part[\"body\"] for part in guide[\"details\"][\"parts\"]])"
     ],
     "language": "python",
     "metadata": {},
     "outputs": [],
     "prompt_number": 35
    },
    {
     "cell_type": "code",
     "collapsed": false,
     "input": [
      "classifier = NaiveBayes()\n",
      "classifier.train(\"data\")"
     ],
     "language": "python",
     "metadata": {},
     "outputs": [
      {
       "output_type": "stream",
       "stream": "stdout",
       "text": [
        "Training finished...(training-set of size 1)\n"
       ]
      }
     ],
     "prompt_number": 12
    },
    {
     "cell_type": "code",
     "collapsed": false,
     "input": [
      "tool.SMOGIndex(strip_tags(html_data).encode(\"utf8\"))"
     ],
     "language": "python",
     "metadata": {},
     "outputs": [
      {
       "output_type": "pyout",
       "prompt_number": 36,
       "text": [
        "14.368"
       ]
      }
     ],
     "prompt_number": 36
    },
    {
     "cell_type": "code",
     "collapsed": false,
     "input": [
      "a= modify_html(\"\".join(part[\"body\"] for part in store.artefacts.find_one({\"format\":\"guide\", \"web_url\":\"https://www.gov.uk/highway-code-penalties\"})[\"details\"][\"parts\"]))"
     ],
     "language": "python",
     "metadata": {},
     "outputs": [],
     "prompt_number": 37
    },
    {
     "cell_type": "code",
     "collapsed": false,
     "input": [
      "output = \"<ul>\"\n",
      "for score, guide in sorted([(get_score(guide), guide) for guide in store.artefacts.find({\"format\":\"guide\"})]):\n",
      "    output += '<li><a href=\"%s\">%s</a> (%s)</li>' % (guide[\"web_url\"], guide[\"title\"], score)\n",
      "output += \"</ul>\"\n",
      "HTML(output)\n"
     ],
     "language": "python",
     "metadata": {},
     "outputs": [
      {
       "html": [
        "<ul><li><a href=\"https://www.gov.uk/control-dog-public\">Controlling your dog in public</a> (7.5244)</li><li><a href=\"https://www.gov.uk/county-court-judgments-ccj-for-debt\">County court judgments for debt</a> (7.7726)</li><li><a href=\"https://www.gov.uk/claim-child-benefit-behalf-someone-else\">Claim Child Benefit on behalf of someone else</a> (7.855)</li><li><a href=\"https://www.gov.uk/right-to-buy-buying-your-council-home\">Right to Buy: buying your council home</a> (7.911)</li><li><a href=\"https://www.gov.uk/right-to-acquire-buying-housing-association-home\">Right to Acquire: buying your housing association home</a> (7.9656)</li><li><a href=\"https://www.gov.uk/council-tax\">Council Tax</a> (8.0835)</li><li><a href=\"https://www.gov.uk/income-tax\">Income Tax</a> (8.3069)</li><li><a href=\"https://www.gov.uk/expenses-and-benefits-christmas-bonuses\">Expenses and benefits: Christmas bonuses</a> (8.3229)</li><li><a href=\"https://www.gov.uk/tax-credits-appeals-complaints\">Tax credits: appeals and complaints</a> (8.3311)</li><li><a href=\"https://www.gov.uk/taxable-income\">Taxable income</a> (8.4174)</li><li><a href=\"https://www.gov.uk/understand-self-assessment-statement\">Understanding your Self Assessment statement</a> (8.5596)</li><li><a href=\"https://www.gov.uk/tax-codes\">Tax codes</a> (8.5678)</li><li><a href=\"https://www.gov.uk/your-rights-bailiffs\">Bailiff powers when they visit your home</a> (8.6493)</li><li><a href=\"https://www.gov.uk/tax-credits-overpayments\">Tax credits overpayments</a> (8.653)</li><li><a href=\"https://www.gov.uk/charged-crime\">Being charged with a crime</a> (8.6629)</li><li><a href=\"https://www.gov.uk/plan-retirement-income\">Plan your retirement income</a> (8.769)</li><li><a href=\"https://www.gov.uk/rules-pedestrians-1-to-35\">Rules for pedestrians (1 to 35)</a> (8.7992)</li><li><a href=\"https://www.gov.uk/how-to-send-self-assessment-online\">How to send your Self Assessment tax return online</a> (8.9161)</li><li><a href=\"https://www.gov.uk/giving-staff-time-off-jury-service\">Giving staff time off for jury service</a> (8.9409)</li><li><a href=\"https://www.gov.uk/repossession\">Repossession</a> (8.9798)</li><li><a href=\"https://www.gov.uk/become-an-mot-tester\">Become an MOT tester</a> (9.0194)</li><li><a href=\"https://www.gov.uk/claim-tax-credits\">How to claim tax credits</a> (9.0594)</li><li><a href=\"https://www.gov.uk/childcare-tax-credits\">Childcare and tax credits</a> (9.0876)</li><li><a href=\"https://www.gov.uk/water-and-sewerage-rates-for-businesses\">Water and sewerage rates for businesses</a> (9.1559)</li><li><a href=\"https://www.gov.uk/trainee-driving-instructor-licence-the-rules\">Trainee driving instructor licence: the rules</a> (9.1644)</li><li><a href=\"https://www.gov.uk/monitoring-work-workers-rights\">Being monitored at work: workers' rights</a> (9.1998)</li><li><a href=\"https://www.gov.uk/getting-help-with-your-tax-credits-claim\">Getting someone to help with your tax credits claim</a> (9.2361)</li><li><a href=\"https://www.gov.uk/child-trust-funds\">Child Trust Fund</a> (9.2408)</li><li><a href=\"https://www.gov.uk/early-retirement-pension\">Early retirement and your pension</a> (9.2885)</li><li><a href=\"https://www.gov.uk/adi-part-1-test\">ADI part 1 test</a> (9.299)</li><li><a href=\"https://www.gov.uk/combined-pension-statements-employers\">Combined Pension Statements for employers</a> (9.3246)</li><li><a href=\"https://www.gov.uk/minimum-wage-different-types-work\">Minimum wage for different types of work</a> (9.3246)</li><li><a href=\"https://www.gov.uk/state-pension-if-you-retire-abroad\">State Pension if you retire abroad</a> (9.3246)</li><li><a href=\"https://www.gov.uk/understand-how-your-council-works\">Understand how your council works</a> (9.3362)</li><li><a href=\"https://www.gov.uk/capital-gains-tax\">Capital Gains Tax</a> (9.3373)</li><li><a href=\"https://www.gov.uk/driving-theory-test\">The driving theory test for cars and motorcycles</a> (9.3994)</li><li><a href=\"https://www.gov.uk/cbt-compulsory-basic-training\">Compulsory basic training (CBT)</a> (9.4099)</li><li><a href=\"https://www.gov.uk/child-maintenance-if-one-parent-lives-abroad\">Child maintenance if one parent lives abroad</a> (9.4143)</li><li><a href=\"https://www.gov.uk/divorce\">Get a divorce</a> (9.4305)</li><li><a href=\"https://www.gov.uk/tax-credits-if-moving-country-or-travelling\">Tax credits if you're outside the UK</a> (9.47)</li><li><a href=\"https://www.gov.uk/donating-to-charity\">Donating to charity</a> (9.4807)</li><li><a href=\"https://www.gov.uk/national-insurance\">National Insurance</a> (9.5237)</li><li><a href=\"https://www.gov.uk/duty-free-goods\">Bringing goods into the UK</a> (9.5293)</li><li><a href=\"https://www.gov.uk/understanding-your-pay\">Understanding your pay</a> (9.5554)</li><li><a href=\"https://www.gov.uk/lay-offs-short-timeworking\">Lay-offs and short-time working</a> (9.5704)</li><li><a href=\"https://www.gov.uk/tax-employee-share-schemes\">Tax and Employee Share Schemes</a> (9.5955)</li><li><a href=\"https://www.gov.uk/importing-and-exporting-by-post\">Importing and exporting by post</a> (9.6009)</li><li><a href=\"https://www.gov.uk/expenses-benefits-social-functions-parties\">Expenses and benefits: social functions and parties</a> (9.6058)</li><li><a href=\"https://www.gov.uk/taking-vehicles-out-of-uk\">Taking a vehicle out of the UK</a> (9.6103)</li><li><a href=\"https://www.gov.uk/expenses-benefits-school-fees-for-employees-child\">Expenses and benefits: school fees for an employee's child</a> (9.6216)</li><li><a href=\"https://www.gov.uk/if-your-child-is-taken-into-care\">If your child is taken into care</a> (9.6332)</li><li><a href=\"https://www.gov.uk/seat-belts-law\">Seat belts - the law</a> (9.6548)</li><li><a href=\"https://www.gov.uk/rules-about-animals-47-to-58\">Rules about animals (47 to 58)</a> (9.6594)</li><li><a href=\"https://www.gov.uk/overtime-your-rights\">Overtime: your rights</a> (9.7082)</li><li><a href=\"https://www.gov.uk/using-the-road-159-to-203\">Using the road (159 to 203)</a> (9.7082)</li><li><a href=\"https://www.gov.uk/rules-for-cyclists-59-to-82\">Rules for cyclists (59 to 82)</a> (9.7185)</li><li><a href=\"https://www.gov.uk/benefits-and-prison\">Benefits and prison</a> (9.7376)</li><li><a href=\"https://www.gov.uk/tax-buying-selling-shares\">Tax on buying and selling shares</a> (9.7442)</li><li><a href=\"https://www.gov.uk/getting-an-mot\">Getting an MOT</a> (9.755)</li><li><a href=\"https://www.gov.uk/register-post-test-motorcycle-trainers-rpmt\">Register of post-test motorcycle trainers (RPMT)</a> (9.762)</li><li><a href=\"https://www.gov.uk/displaying-number-plates\">Displaying number plates</a> (9.8091)</li><li><a href=\"https://www.gov.uk/vat-businesses\">Businesses and charging VAT</a> (9.8599)</li><li><a href=\"https://www.gov.uk/driving-licences-private-hire-taxis-london\">Driving licences for private hire or taxis in London</a> (9.8964)</li><li><a href=\"https://www.gov.uk/schools-admissions\">Schools admissions</a> (9.9073)</li><li><a href=\"https://www.gov.uk/collective-group-passports\">Collective (group) passports</a> (9.9226)</li><li><a href=\"https://www.gov.uk/child-car-seats-the-rules\">Child car seats - the rules</a> (9.9282)</li><li><a href=\"https://www.gov.uk/enhanced-rider-scheme\">Enhanced rider scheme</a> (9.9282)</li><li><a href=\"https://www.gov.uk/flexible-working\">Flexible working </a> (9.9396)</li><li><a href=\"https://www.gov.uk/vehicle-maintenance-safety-security\">Vehicle maintenance, safety and security  </a> (9.957)</li><li><a href=\"https://www.gov.uk/how-to-resolve-neighbour-disputes\">Resolving neighbour disputes</a> (9.9693)</li><li><a href=\"https://www.gov.uk/expenses-and-benefits-company-vans\">Expenses and benefits: company vans and fuel</a> (9.9921)</li><li><a href=\"https://www.gov.uk/bullying-at-school\">Bullying at school</a> (9.9962)</li><li><a href=\"https://www.gov.uk/prepare-file-annual-accounts-for-limited-company\">Accounts and tax returns for private limited companies</a> (10.0065)</li><li><a href=\"https://www.gov.uk/vat-annual-accounting-scheme\">VAT Annual Accounting Scheme</a> (10.0065)</li><li><a href=\"https://www.gov.uk/become-an-lgv-driving-instructor\">Become an LGV driving instructor</a> (10.0129)</li><li><a href=\"https://www.gov.uk/end-civil-partnership\">End a civil partnership</a> (10.0262)</li><li><a href=\"https://www.gov.uk/appeal-against-sentence-conviction\">Appeal against a sentence or a conviction</a> (10.0327)</li><li><a href=\"https://www.gov.uk/children-with-special-educational-needs\">Children with special educational needs</a> (10.0489)</li><li><a href=\"https://www.gov.uk/expenses-and-benefits-examination-grants\">Expenses and benefits: examination grants</a> (10.0711)</li><li><a href=\"https://www.gov.uk/road-users-requiring-extra-care-204-to-225\">Road users requiring extra care (204 to 225)</a> (10.0784)</li><li><a href=\"https://www.gov.uk/driving-adverse-weather-conditions-226-to-237\">Driving in adverse weather conditions (226 to 237)</a> (10.1047)</li><li><a href=\"https://www.gov.uk/honours\">The honours system</a> (10.1114)</li><li><a href=\"https://www.gov.uk/road-works-level-crossings-tramways-288-to-307\">Road works, level crossings and tramways (288 to 307)</a> (10.1253)</li><li><a href=\"https://www.gov.uk/leasehold-property\">Leasehold property</a> (10.1269)</li><li><a href=\"https://www.gov.uk/food-safety-as-a-food-distributor\">Importing and exporting food</a> (10.1414)</li><li><a href=\"https://www.gov.uk/vat-returns\">VAT Returns</a> (10.1446)</li><li><a href=\"https://www.gov.uk/driver-certificate-of-professional-competence-cpc\">Driver CPC for lorry, bus and coach drivers</a> (10.1528)</li><li><a href=\"https://www.gov.uk/council-tax-appeals\">Council Tax appeals</a> (10.1559)</li><li><a href=\"https://www.gov.uk/money-property-when-relationship-ends\">Money and property when a relationship ends</a> (10.1589)</li><li><a href=\"https://www.gov.uk/paying-inheritance-tax\">Paying Inheritance Tax</a> (10.1627)</li><li><a href=\"https://www.gov.uk/tax-company-benefits\">Tax on company benefits</a> (10.1635)</li><li><a href=\"https://www.gov.uk/expenses-benefits-meals-employees-directors\">Expenses and benefits: meals for employees and directors</a> (10.2111)</li><li><a href=\"https://www.gov.uk/arrested-your-rights\">Being arrested: your rights</a> (10.2324)</li><li><a href=\"https://www.gov.uk/change-vehicle-details-registration-certificate\">Change your vehicle details on a registration certificate</a> (10.2457)</li><li><a href=\"https://www.gov.uk/young-people-in-custody\">Young people in custody</a> (10.2457)</li><li><a href=\"https://www.gov.uk/expenses-and-benefits-childcare\">Expenses and benefits: childcare</a> (10.2583)</li><li><a href=\"https://www.gov.uk/annual-test-for-lorries-buses-and-trailers\">The annual test for lorries, buses and trailers</a> (10.2597)</li><li><a href=\"https://www.gov.uk/vat-cash-accounting-scheme\">VAT Cash Accounting Scheme</a> (10.2664)</li><li><a href=\"https://www.gov.uk/register-land-rural-land-register\">Register land with the Rural Land Register</a> (10.2899)</li><li><a href=\"https://www.gov.uk/waiting-and-parking\">Waiting and parking (238 to 252)</a> (10.2926)</li><li><a href=\"https://www.gov.uk/general-rules-all-drivers-riders-103-to-158\">General rules, techniques and advice for all drivers and riders (103 to 158)</a> (10.2961)</li><li><a href=\"https://www.gov.uk/vat-flat-rate-scheme\">VAT Flat Rate Scheme </a> (10.3101)</li><li><a href=\"https://www.gov.uk/become-lorry-bus-driver\">Become a lorry or bus driver </a> (10.3144)</li><li><a href=\"https://www.gov.uk/courts\">Criminal courts</a> (10.3164)</li><li><a href=\"https://www.gov.uk/life-in-prison\">Prison life</a> (10.3325)</li><li><a href=\"https://www.gov.uk/park-mobile-homes\">Park (mobile) homes</a> (10.3397)</li><li><a href=\"https://www.gov.uk/employer-reporting-expenses-benefits\">Introduction to expenses and benefits for employers</a> (10.3409)</li><li><a href=\"https://www.gov.uk/hand-luggage-restrictions\">Hand luggage restrictions at UK airports</a> (10.3565)</li><li><a href=\"https://www.gov.uk/expenses-and-benefits-company-cars\">Expenses and benefits: company cars and fuel</a> (10.3616)</li><li><a href=\"https://www.gov.uk/managing-your-waste-an-overview\">Business and commercial waste</a> (10.3628)</li><li><a href=\"https://www.gov.uk/expenses-and-benefits-clothing\">Expenses and benefits: clothing</a> (10.3679)</li><li><a href=\"https://www.gov.uk/child-employment\">Child employment</a> (10.3937)</li><li><a href=\"https://www.gov.uk/bringing-food-animals-plants-into-uk\">Bringing food, animals or plants into the UK</a> (10.4297)</li><li><a href=\"https://www.gov.uk/specialist-tests-for-lorries\">Specialist tests for lorries</a> (10.4421)</li><li><a href=\"https://www.gov.uk/special-educational-needs-disability-tribunal\">Special educational needs and disability tribunal</a> (10.4498)</li><li><a href=\"https://www.gov.uk/disciplinary-procedures-and-action-at-work\">Disciplinary procedures and action against you at work</a> (10.5068)</li><li><a href=\"https://www.gov.uk/become-direct-access-scheme-motorcycle-instructor\">Become a direct access scheme (DAS) motorcycle instructor</a> (10.51)</li><li><a href=\"https://www.gov.uk/expenses-and-benefits-public-transport\">Expenses and benefits: public transport</a> (10.5147)</li><li><a href=\"https://www.gov.uk/contaminated-land\">Contaminated land</a> (10.5458)</li><li><a href=\"https://www.gov.uk/help-for-disabled-child\">Help if you have a disabled child</a> (10.5645)</li><li><a href=\"https://www.gov.uk/types-of-prison-sentence\">Types of prison sentences</a> (10.5679)</li><li><a href=\"https://www.gov.uk/trusts-taxes\">Trusts and taxes</a> (10.5855)</li><li><a href=\"https://www.gov.uk/holiday-entitlement-rights\">Holiday entitlement</a> (10.5978)</li><li><a href=\"https://www.gov.uk/private-renting\">Private renting</a> (10.6064)</li><li><a href=\"https://www.gov.uk/become-a-fleet-driver-trainer\">Become a fleet driver trainer</a> (10.6277)</li><li><a href=\"https://www.gov.uk/right-to-manage-a-guide-for-landlords\">Right to Manage: a guide for landlords</a> (10.6312)</li><li><a href=\"https://www.gov.uk/council-housing-association-evictions\">Council and housing association evictions</a> (10.6376)</li><li><a href=\"https://www.gov.uk/foster-carers\">Foster carers</a> (10.646)</li><li><a href=\"https://www.gov.uk/junior-individual-savings-accounts\">Junior Individual Savings Accounts (ISA)</a> (10.6485)</li><li><a href=\"https://www.gov.uk/preventing-air-pollution\">Preventing air pollution</a> (10.6574)</li><li><a href=\"https://www.gov.uk/keeping-your-pay-tax-records\">Keeping your pay and tax records</a> (10.6649)</li><li><a href=\"https://www.gov.uk/handing-in-your-notice\">Handing in your notice</a> (10.6832)</li><li><a href=\"https://www.gov.uk/building-regulations-competent-person-schemes\">Competent person scheme</a> (10.6852)</li><li><a href=\"https://www.gov.uk/apply-first-adult-passport\">Apply for your first adult passport</a> (10.6896)</li><li><a href=\"https://www.gov.uk/driving-disqualifications\">Driving disqualifications</a> (10.7028)</li><li><a href=\"https://www.gov.uk/power-of-attorney\">Lasting Power of Attorney</a> (10.7038)</li><li><a href=\"https://www.gov.uk/rest-breaks-work\">Rest breaks at work</a> (10.7055)</li><li><a href=\"https://www.gov.uk/expenses-and-benefits-car-parking-charges\">Expenses and benefits: car parking charges</a> (10.746)</li><li><a href=\"https://www.gov.uk/expenses-and-benefits-parking-spaces\">Expenses and benefits: parking spaces</a> (10.746)</li><li><a href=\"https://www.gov.uk/expenses-benefits-assets-available-to-employee\">Expenses and benefits: assets made available to an employee</a> (10.746)</li><li><a href=\"https://www.gov.uk/weights-measures-and-packaging-the-law\">Weights and measures: the law</a> (10.746)</li><li><a href=\"https://www.gov.uk/income-tax-reliefs\">Claim Income Tax reliefs</a> (10.7687)</li><li><a href=\"https://www.gov.uk/rules-motorcyclists-83-to-88\">Rules for motorcyclists (83 to 88)</a> (10.7793)</li><li><a href=\"https://www.gov.uk/data-protection-your-business\">Data protection and your business</a> (10.7811)</li><li><a href=\"https://www.gov.uk/rules-drivers-motorcyclists-89-to-102\">Rules for drivers and motorcyclists (89 to 102)</a> (10.7974)</li><li><a href=\"https://www.gov.uk/scrapped-and-written-off-vehicles\">Scrapped and written off vehicles</a> (10.8062)</li><li><a href=\"https://www.gov.uk/planning-permission-scotland\">Planning permission (Scotland)</a> (10.8082)</li><li><a href=\"https://www.gov.uk/council-housing\">Council housing</a> (10.8161)</li><li><a href=\"https://www.gov.uk/employment-contracts-and-conditions\">Employment contracts</a> (10.822)</li><li><a href=\"https://www.gov.uk/expenses-and-benefits-assets-bought-sold-or-given\">Expenses and benefits: assets bought, sold or given </a> (10.823)</li><li><a href=\"https://www.gov.uk/uk-welcomes-business\">UK Welcomes business</a> (10.8262)</li><li><a href=\"https://www.gov.uk/motorways-253-to-273\">Motorways (253 to 273)</a> (10.8472)</li><li><a href=\"https://www.gov.uk/vat-registration\">VAT registration</a> (10.8528)</li><li><a href=\"https://www.gov.uk/farm-and-livery-horses\">Farm and livery horses</a> (10.8613)</li><li><a href=\"https://www.gov.uk/operator-compliance-risk-score\">Operator Compliance Risk Score (OCRS)</a> (10.8974)</li><li><a href=\"https://www.gov.uk/vat-building-new-home\">Building a new home and VAT</a> (10.9102)</li><li><a href=\"https://www.gov.uk/green-taxes-and-reliefs\">Green taxes, reliefs and schemes for businesses</a> (10.9162)</li><li><a href=\"https://www.gov.uk/your-rights-if-your-employer-is-insolvent\">Your rights if your employer is insolvent</a> (10.9373)</li><li><a href=\"https://www.gov.uk/if-you-become-disabled\">What to do if you become disabled</a> (10.9507)</li><li><a href=\"https://www.gov.uk/register-waste-carrier\">Register as a waste carrier</a> (10.9642)</li><li><a href=\"https://www.gov.uk/adoption-leave-pay-employees\">Statutory Adoption Pay and Leave - employer guide</a> (10.9807)</li><li><a href=\"https://www.gov.uk/permission-to-supply-a-large-goods-trailer-for-use-on-the-road\">Permission to supply a large goods trailer for use on the road</a> (10.9844)</li><li><a href=\"https://www.gov.uk/how-to-annul-marriage\">Annul a marriage</a> (10.9946)</li><li><a href=\"https://www.gov.uk/become-dsa-assessed-cbt-motorcycle-instructor\">Become a DSA assessed CBT motorcycle instructor</a> (11.0034)</li><li><a href=\"https://www.gov.uk/hiring-crew\">Hiring crew for ships and yachts</a> (11.0178)</li><li><a href=\"https://www.gov.uk/esdal-and-abnormal-loads\">Transporting abnormal loads</a> (11.0623)</li><li><a href=\"https://www.gov.uk/expenses-and-benefits-business-travel-mileage\">Expenses and benefits: business travel mileage for employees' own vehicles</a> (11.0623)</li><li><a href=\"https://www.gov.uk/starting-up-a-business\">Starting up a business</a> (11.0623)</li><li><a href=\"https://www.gov.uk/expenses-and-benefits-travel\">Expenses and benefits: travel</a> (11.0757)</li><li><a href=\"https://www.gov.uk/vehicle-registration-schemes-for-the-motor-trade\">Vehicle registration schemes for the motor trade</a> (11.0786)</li><li><a href=\"https://www.gov.uk/types-of-school\">Types of school </a> (11.0822)</li><li><a href=\"https://www.gov.uk/vat-record-keeping\">VAT record keeping</a> (11.0904)</li><li><a href=\"https://www.gov.uk/whistleblowing\">Whistleblowing</a> (11.124)</li><li><a href=\"https://www.gov.uk/court-funds-office-processes\">Court Funds Office processes</a> (11.1335)</li><li><a href=\"https://www.gov.uk/financial-help-disabled\">Financial help if you're disabled</a> (11.1773)</li><li><a href=\"https://www.gov.uk/compensation-after-accident-or-injury\">Compensation after an accident or injury</a> (11.1807)</li><li><a href=\"https://www.gov.uk/paternity-leave-pay-employees\">Ordinary Statutory Paternity Pay and Leave: employer guide</a> (11.2226)</li><li><a href=\"https://www.gov.uk/tenancy-deposit-protection\">Tenancy deposit protection</a> (11.2398)</li><li><a href=\"https://www.gov.uk/expenses-benefits-computers-loaned-to-employee\">Expenses and benefits: computers loaned to an employee</a> (11.2462)</li><li><a href=\"https://www.gov.uk/child-adoption\">Child adoption</a> (11.2554)</li><li><a href=\"https://www.gov.uk/become-deputy\">Become a deputy</a> (11.2605)</li><li><a href=\"https://www.gov.uk/make-a-freedom-of-information-request\">How to make a freedom of information (FOI) request</a> (11.3017)</li><li><a href=\"https://www.gov.uk/expenses-and-benefits-bonuses\">Expenses and benefits: bonuses</a> (11.3066)</li><li><a href=\"https://www.gov.uk/expenses-and-benefits-club-membership\">Expenses and benefits: club membership</a> (11.3066)</li><li><a href=\"https://www.gov.uk/setting-up-an-approved-tachograph-centre\">Setting up an Approved Tachograph Centre (ATC)</a> (11.3066)</li><li><a href=\"https://www.gov.uk/mobility-scooters-and-powered-wheelchairs-rules\">Mobility scooters and powered wheelchairs - the rules</a> (11.3238)</li><li><a href=\"https://www.gov.uk/leaving-prison\">Leaving prison</a> (11.3504)</li><li><a href=\"https://www.gov.uk/rules-powered-wheelchairs-mobility-scooters-36-46\">Rules for users of powered wheelchairs and mobility scooters (36 to 46)</a> (11.3504)</li><li><a href=\"https://www.gov.uk/tendering-for-public-sector-contracts\">Tendering for public sector contracts</a> (11.3536)</li><li><a href=\"https://www.gov.uk/feed-in-tarriffs-money-for-generating-electricity\">Feed-in Tariffs: get money for generating your own electricity</a> (11.3666)</li><li><a href=\"https://www.gov.uk/provide-driving-tests-for-your-employees\">Provide driving tests for your employees</a> (11.3666)</li><li><a href=\"https://www.gov.uk/take-pet-abroad\">Taking your pet abroad</a> (11.3666)</li><li><a href=\"https://www.gov.uk/driving-instructor-suspension-your-rights\">Driving instructor suspension: your rights</a> (11.3793)</li><li><a href=\"https://www.gov.uk/expenses-and-benefits-cash-sum-payments\">Expenses and benefits: cash sum payments to employees</a> (11.4208)</li><li><a href=\"https://www.gov.uk/expenses-and-benefits-congestion-charges\">Expenses and benefits: congestion charges</a> (11.458)</li><li><a href=\"https://www.gov.uk/national-insurance-contributions-for-employers\">National Insurance Contributions (NICs) for your employees</a> (11.4726)</li><li><a href=\"https://www.gov.uk/vehicle-insurance\">Vehicle insurance</a> (11.5356)</li><li><a href=\"https://www.gov.uk/data-protection\">Data protection</a> (11.544)</li><li><a href=\"https://www.gov.uk/your-employment-contract-how-it-can-be-changed\">Changing an employment contract</a> (11.5714)</li><li><a href=\"https://www.gov.uk/discrimination-your-rights\">Discrimination: your rights</a> (11.589)</li><li><a href=\"https://www.gov.uk/staff-redundant\">Making staff redundant</a> (11.6023)</li><li><a href=\"https://www.gov.uk/electricalwaste-producer-supplier-responsibilities\">Electrical waste: producer  and supplier responsibilities </a> (11.6092)</li><li><a href=\"https://www.gov.uk/expenses-and-benefits-accommodation\">Expenses and benefits: accommodation</a> (11.612)</li><li><a href=\"https://www.gov.uk/crb-criminal-records-bureau-check\">Criminal Records Bureau (CRB) checks (Disclosure and Barring Service)</a> (11.6456)</li><li><a href=\"https://www.gov.uk/solve-workplace-dispute\">Solve a workplace dispute</a> (11.6456)</li><li><a href=\"https://www.gov.uk/vehicle-registration\">Vehicle registration</a> (11.6501)</li><li><a href=\"https://www.gov.uk/set-up-run-motorcycle-approved-training-body-atb\">Set up and run a motorcycle approved training body (ATB)</a> (11.6718)</li><li><a href=\"https://www.gov.uk/business-finance-explained\">Business finance explained</a> (11.6929)</li><li><a href=\"https://www.gov.uk/taking-disciplinary-action\">Taking disciplinary action against an employee</a> (11.6948)</li><li><a href=\"https://www.gov.uk/transfers-takeovers\">Business transfers, takeovers and TUPE</a> (11.7006)</li><li><a href=\"https://www.gov.uk/government-help-for-exporters\">Government help for exporters</a> (11.7321)</li><li><a href=\"https://www.gov.uk/terrorism-national-emergency\">Terrorism and national emergencies</a> (11.7437)</li><li><a href=\"https://www.gov.uk/tachographs\">Tachographs - rules for drivers and operators</a> (11.756)</li><li><a href=\"https://www.gov.uk/dispose-hazardous-waste\">Dispose of hazardous waste</a> (11.766)</li><li><a href=\"https://www.gov.uk/expenses-benefits-credit-debit-charge-cards\">Expenses and benefits: credit, debit and charge cards</a> (11.8034)</li><li><a href=\"https://www.gov.uk/roadside-vehicle-checks-for-commercial-drivers\">Roadside vehicle checks for commercial drivers</a> (11.8143)</li><li><a href=\"https://www.gov.uk/energy-performance-certificate-commercial-property\">Energy Performance Certificates for your business premises</a> (11.8211)</li><li><a href=\"https://www.gov.uk/seafarer-working-and-living-rights\">Seafarer working and living rights</a> (11.8221)</li><li><a href=\"https://www.gov.uk/legal-rights-when-using-surrogates-and-donors\">Legal rights when using surrogates and donors</a> (11.8318)</li><li><a href=\"https://www.gov.uk/traffic-commissioner\">Traffic commissioner public inquiries</a> (11.8536)</li><li><a href=\"https://www.gov.uk/breakdowns-and-incidents-274-to-287\">Breakdowns and incidents (274 to 287)</a> (11.8641)</li><li><a href=\"https://www.gov.uk/late-commercial-payments-interest-debt-recovery\">Late commercial payments: charging interest and debt recovery</a> (11.9113)</li><li><a href=\"https://www.gov.uk/fixed-term-contracts\">Fixed-term employment contracts</a> (11.9316)</li><li><a href=\"https://www.gov.uk/marketing-advertising-law\">Marketing and advertising: the law</a> (11.9519)</li><li><a href=\"https://www.gov.uk/protecting-rural-landscapes-and-features\">Protecting rural landscapes and features</a> (11.9539)</li><li><a href=\"https://www.gov.uk/invoicing-and-taking-payment-from-customers\">Invoicing and taking payment from customers: the law</a> (12.0175)</li><li><a href=\"https://www.gov.uk/dismiss-staff\">Dismissing staff</a> (12.0506)</li><li><a href=\"https://www.gov.uk/dismissal\">Dismissal: your rights</a> (12.0704)</li><li><a href=\"https://www.gov.uk/personalised-vehicle-registration-numbers\">Personalised vehicle registration numbers</a> (12.0904)</li><li><a href=\"https://www.gov.uk/rights-disabled-person\">Disability rights</a> (12.1147)</li><li><a href=\"https://www.gov.uk/selling-your-business-your-responsibilities\">Selling your business: your responsibilities</a> (12.1147)</li><li><a href=\"https://www.gov.uk/learning-to-drive-a-tractor-or-specialist-vehicle\">Learning to drive a tractor or specialist vehicle </a> (12.1462)</li><li><a href=\"https://www.gov.uk/register-as-a-hazardous-waste-producer\">Hazardous waste registration (England and Wales)</a> (12.2404)</li><li><a href=\"https://www.gov.uk/uk-visa-sponsorship-employers\">UK visa sponsorship for employers</a> (12.3241)</li><li><a href=\"https://www.gov.uk/employment-status\">Employment status</a> (12.3516)</li><li><a href=\"https://www.gov.uk/queens-awards-for-enterprise\">The Queen's Awards for Enterprise</a> (12.4163)</li><li><a href=\"https://www.gov.uk/growing-your-business\">Growing your business</a> (12.4462)</li><li><a href=\"https://www.gov.uk/employment-agencies-and-businesses\">Employment agencies and businesses</a> (12.4868)</li><li><a href=\"https://www.gov.uk/expenses-and-benefits-loans-provided-to-employees\">Expenses and benefits: loans provided to employees</a> (12.4868)</li><li><a href=\"https://www.gov.uk/employer-preventing-discrimination\">Employers: preventing discrimination</a> (12.5669)</li><li><a href=\"https://www.gov.uk/become-an-mot-station\">Set up an MOT test station</a> (12.5851)</li><li><a href=\"https://www.gov.uk/workplace-fire-safety-your-responsibilities\">Fire safety in the workplace</a> (12.5905)</li><li><a href=\"https://www.gov.uk/adoption-records\">Adoption records</a> (12.6386)</li><li><a href=\"https://www.gov.uk/recruitment-disabled-people\">Recruitment and disabled people</a> (12.6766)</li><li><a href=\"https://www.gov.uk/battery-waste-producer-supplier-responsibilities\">Battery waste: producer and supplier responsibilities </a> (12.7166)</li><li><a href=\"https://www.gov.uk/becoming-a-speed-limiter-centre\">Becoming a speed limiter centre</a> (12.7619)</li><li><a href=\"https://www.gov.uk/business-legal-structures\">Choose a legal structure for a new business</a> (12.7738)</li><li><a href=\"https://www.gov.uk/expenses-benefits-subscriptions-professional-fees\">Expenses and benefits: subscriptions and professional fees</a> (12.8995)</li><li><a href=\"https://www.gov.uk/expenses-benefits-incidental-overnight-expenses\">Expenses and benefits: incidental overnight expenses</a> (12.9499)</li><li><a href=\"https://www.gov.uk/packaging-waste-producer-supplier-responsibilities\">Packaging waste: producer and supplier responsibilities</a> (13.2062)</li><li><a href=\"https://www.gov.uk/highway-code-penalties\">Penalties</a> (13.328)</li><li><a href=\"https://www.gov.uk/emergency-and-lifesaving-equipment-on-ships\">Emergency and life-saving equipment on ships</a> (13.3448)</li><li><a href=\"https://www.gov.uk/check-a-university-is-officially-recognised\">Check if a university or college is officially recognised</a> (13.351)</li><li><a href=\"https://www.gov.uk/expenses-benefits-scholarship-family-employee\">Expenses and benefits: scholarship for an employee's family member</a> (13.5247)</li><li><a href=\"https://www.gov.uk/expenses-and-benefits-entertainment\">Expenses and benefits: entertainment</a> (13.583)</li><li><a href=\"https://www.gov.uk/expenses-benefits-income-tax-paid-directors-behalf\">Expenses and benefits: income tax paid on directors' behalf</a> (14.2006)</li><li><a href=\"https://www.gov.uk/expenses-benefits-sporting-recreational-facilities\">Expenses and benefits: sporting or recreational facilities</a> (14.368)</li></ul>"
       ],
       "output_type": "pyout",
       "prompt_number": 38,
       "text": [
        "<IPython.core.display.HTML at 0x10cab6650>"
       ]
      }
     ],
     "prompt_number": 38
    },
    {
     "cell_type": "code",
     "collapsed": false,
     "input": [],
     "language": "python",
     "metadata": {},
     "outputs": []
    }
   ],
   "metadata": {}
  }
 ]
}